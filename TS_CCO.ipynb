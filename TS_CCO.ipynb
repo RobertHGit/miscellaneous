{
 "cells": [
  {
   "cell_type": "code",
   "execution_count": 1,
   "metadata": {},
   "outputs": [],
   "source": [
    "#import packages\n",
    "import numpy as np\n",
    "import pandas as pd\n",
    "import matplotlib.pyplot as plt\n",
    "#import seaborn as sns"
   ]
  },
  {
   "cell_type": "code",
   "execution_count": null,
   "metadata": {},
   "outputs": [],
   "source": [
    "#import data from csv\n",
    "dataVR1 = pd.read_excel(\"\\path\\to\\folder\\\",sheet_name=\"Raw\")\n",
    "dataSeg1 = pd.read_excel(\"\\path\\to\\folder\\\")"
   ]
  },
  {
   "cell_type": "code",
   "execution_count": null,
   "metadata": {},
   "outputs": [],
   "source": [
    "# print('---VR---')\n",
    "# print(dataVR1.head(5))\n",
    "# print('---Seg---')\n",
    "# print(dataSeg1.head(5))"
   ]
  },
  {
   "cell_type": "code",
   "execution_count": null,
   "metadata": {},
   "outputs": [],
   "source": [
    "#clean imported data\n",
    "#--- VR Data ---\n",
    "selectVR = [0,1,2,4,5,6,7]\n",
    "dataVR = dataVR1.iloc[:,selectVR]\n",
    "columsVR = ['period','product_long','GRID_EUP','revenue','product_short','product_group','TS_client']\n",
    "dataVR.columns = columsVR\n",
    "dataVR = dataVR[dataVR['period']==201712]\n",
    "#--- Seg Data ---\n",
    "selectSeg = [0,1,2,3,5,7,8,9]\n",
    "dataSeg = dataSeg1.iloc[:,selectSeg]\n",
    "columsSeg = ['segment','clientName','GRID_EUP','pam','pamLoc','sector','region','valueProp']\n",
    "dataSeg.columns = columsSeg"
   ]
  },
  {
   "cell_type": "code",
   "execution_count": null,
   "metadata": {},
   "outputs": [],
   "source": [
    "print('---VR---')\n",
    "print(dataVR.head(5))\n",
    "print('---Seg---')\n",
    "print(dataSeg.head(5))"
   ]
  },
  {
   "cell_type": "code",
   "execution_count": null,
   "metadata": {},
   "outputs": [],
   "source": [
    "# Create merged dataframe\n",
    "fullData = pd.merge(dataVR, dataSeg, how=\"inner\", on=\"GRID_EUP\")\n"
   ]
  },
  {
   "cell_type": "code",
   "execution_count": null,
   "metadata": {},
   "outputs": [],
   "source": [
    "# Graph 1 - TS Potential mapping\n",
    "#graph1Data = fullData.groupby(['segment','TS_client'],as_index=False)[['revenue']].count()\n",
    "YesTS = fullData[fullData['product_group'] == 'TS']\n",
    "YesTSEUP = YesTS['GRID_EUP'].unique()\n",
    "\n",
    "fullData1 = fullData.assign(TSclient=2)\n",
    "\n",
    "runEnd = fullData1.shape[0]\n",
    "\n",
    "for i in range(runEnd) :\n",
    "    if fullData1.iloc[i,2] in YesTSEUP :\n",
    "        fullData1.loc[i,'TSclient'] = 1\n",
    "    else :\n",
    "        fullData1.loc[i,'TSclient'] = 0"
   ]
  },
  {
   "cell_type": "code",
   "execution_count": null,
   "metadata": {},
   "outputs": [],
   "source": [
    "graph1Data = fullData1.groupby(by=['segment','TSclient'], as_index=False).agg({'GRID_EUP': pd.Series.nunique})\n",
    "print(graph1Data)\n",
    "\n",
    "graph1Data.to_excel('graph1Data.xlsx')\n",
    "#fullData1.to_excel('fullData1.xlsx')"
   ]
  },
  {
   "cell_type": "code",
   "execution_count": null,
   "metadata": {},
   "outputs": [],
   "source": [
    "# Graph 2 - Revenue section Potential mapping\n",
    "tsFullData = fullData1[fullData1['TSclient'] == 1]\n",
    "tsFullData = tsFullData.groupby(['GRID_EUP','clientName','segment','TS_client','TSclient'],as_index=False)[['revenue']].sum()\n",
    "\n",
    "tsFullRev = tsFullData.groupby(['GRID_EUP'],as_index=False)[['revenue']].sum()\n",
    "tsFullData1 = pd.merge(tsFullData, tsFullRev, how=\"inner\", on=\"GRID_EUP\")\n",
    "tsFullData1['revShareTS'] = tsFullData1['revenue_x'] / (tsFullData1['revenue_y']+1)\n",
    "\n",
    "tsRevShare = tsFullData1[tsFullData1['TS_client'] == 'yes']\n",
    "tsRevShareTop = tsRevShare[tsRevShare['revShareTS'] >= 0.5]\n",
    "tsRevShareMid = tsRevShare[np.logical_and(tsRevShare['revShareTS'] >= 0.25,tsRevShare['revShareTS'] < 0.50)]\n",
    "tsRevShareLow = tsRevShare[tsRevShare['revShareTS'] < 0.25]\n",
    "\n",
    "#Result\n",
    "allEUP = fullData1['GRID_EUP'].unique()\n",
    "tsEUP = tsFullData['GRID_EUP'].unique()\n",
    "\n",
    "TsTopEUP = tsRevShareTop['GRID_EUP'].unique()\n",
    "TsMidEUP = tsRevShareMid['GRID_EUP'].unique()\n",
    "TsLowEUP = tsRevShareLow['GRID_EUP'].unique()\n",
    "\n",
    "ShareTS = float(tsEUP.size)/float(allEUP.size)\n",
    "ShareTop = float(TsTopEUP.size)/float(tsEUP.size)\n",
    "ShareMid = float(TsMidEUP.size)/float(tsEUP.size)\n",
    "ShareLow = float(TsLowEUP.size)/float(tsEUP.size)\n",
    "\n",
    "\n",
    "print(ShareTS)\n",
    "print'---split---'\n",
    "print(ShareTop)\n",
    "print(ShareMid)\n",
    "print(ShareLow)\n",
    "print(ShareTop+ShareMid+ShareLow)\n",
    "print('---Num---')\n",
    "print(float(allEUP.shape[0]))\n",
    "print(float(tsEUP.shape[0]))\n",
    "print(float(TsTopEUP.size))\n",
    "print(float(TsMidEUP.size))\n",
    "print(float(TsLowEUP.size))\n",
    "print(float(TsTopEUP.size)+float(TsMidEUP.size)+float(TsLowEUP.size))\n",
    "\n",
    "\n",
    "tsRevShare.to_excel('tsRevShare.xlsx')"
   ]
  },
  {
   "cell_type": "code",
   "execution_count": null,
   "metadata": {},
   "outputs": [],
   "source": [
    "tsRevShare = tsRevShare.sort_values(by='revenue_x', ascending=False)\n",
    "tsRevShare['runningTotal'] = 1\n",
    "tsRevShare.iloc[0,8] = tsRevShare.iloc[0,6]\n",
    "\n",
    "\n",
    "end = tsRevShare.shape[0]\n",
    "\n",
    "for j in range(1,end) :\n",
    "    k = j-1\n",
    "    tsRevShare.iloc[j,8] = tsRevShare.iloc[j,6] + tsRevShare.iloc[j-1,8]\n"
   ]
  },
  {
   "cell_type": "code",
   "execution_count": null,
   "metadata": {},
   "outputs": [],
   "source": [
    "#end-1\n",
    "tsRevShare['totRevShareTS'] = 0.000000\n",
    "tsRevShare['totRevShareTS'] = tsRevShare.iloc[:,8]/tsRevShare.iloc[-1,8]\n",
    "topRevCust = tsRevShare[tsRevShare['totRevShareTS']<0.8]\n",
    "topRevCust = topRevCust.sort_values(by='totRevShareTS', ascending=True)\n",
    "\n",
    "YesTSTop = topRevCust['GRID_EUP'].unique()\n",
    "\n",
    "fullData3 = fullData.assign(TSTopclient=0)\n",
    "\n",
    "runEnd3 = fullData3.shape[0]\n",
    "\n",
    "for i in range(runEnd3) :\n",
    "    if fullData3.iloc[i,2] in YesTSTop :\n",
    "        fullData3.loc[i,'TSTopclient'] = 1\n",
    "    \n",
    "#tsRevShare.iloc[4680,8] = tsRevShare.iloc[4680,6] + tsRevShare.iloc[4679,8]\n",
    "print(topRevCust.head(5))"
   ]
  },
  {
   "cell_type": "code",
   "execution_count": null,
   "metadata": {},
   "outputs": [],
   "source": [
    "graph2Data = fullData3.groupby(by=['segment','product_group'], as_index=False).agg({'revenue': pd.Series.sum})\n",
    "graph3Data = fullData3.groupby(by=['segment','product_short'], as_index=False).agg({'revenue': pd.Series.sum})\n",
    "print(graph2Data)\n",
    "\n",
    "graph2Data.to_excel('graph2_2Data.xlsx')\n",
    "graph3Data.to_excel('graph2_3Data.xlsx')"
   ]
  },
  {
   "cell_type": "code",
   "execution_count": null,
   "metadata": {},
   "outputs": [],
   "source": []
  }
 ],
 "metadata": {
  "kernelspec": {
   "display_name": "Python 3",
   "language": "python",
   "name": "python3"
  },
  "language_info": {
   "codemirror_mode": {
    "name": "ipython",
    "version": 3
   },
   "file_extension": ".py",
   "mimetype": "text/x-python",
   "name": "python",
   "nbconvert_exporter": "python",
   "pygments_lexer": "ipython3",
   "version": "3.6.5"
  }
 },
 "nbformat": 4,
 "nbformat_minor": 2
}
