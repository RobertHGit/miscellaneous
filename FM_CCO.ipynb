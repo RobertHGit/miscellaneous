{
 "cells": [
  {
   "cell_type": "code",
   "execution_count": null,
   "metadata": {},
   "outputs": [],
   "source": [
    "#import packages\n",
    "import numpy as np\n",
    "import pandas as pd\n",
    "import matplotlib.pyplot as plt\n",
    "#import seaborn as sns"
   ]
  },
  {
   "cell_type": "code",
   "execution_count": null,
   "metadata": {},
   "outputs": [],
   "source": [
    "#import data from csv\n",
    "dataVR1 = pd.read_excel(\"\\path\\to\\folder\",sheet_name=\"Raw\")\n",
    "dataSeg1 = pd.read_excel(\"\\path\\to\\folder\")"
   ]
  },
  {
   "cell_type": "code",
   "execution_count": null,
   "metadata": {},
   "outputs": [],
   "source": [
    "#clean imported data\n",
    "#--- VR Data ---\n",
    "selectVR = [0,1,2,4,5,6,7]\n",
    "dataVR = dataVR1.iloc[:,selectVR]\n",
    "columsVR = ['period','product_long','GRID_EUP','revenue','product_short','product_group','FM_client']\n",
    "dataVR.columns = columsVR\n",
    "dataVR = dataVR[dataVR['period']==201712]\n",
    "#--- Seg Data ---\n",
    "selectSeg = [0,1,2,3,5,7,8,9]\n",
    "dataSeg = dataSeg1.iloc[:,selectSeg]\n",
    "columsSeg = ['segment','clientName','GRID_EUP','pam','pamLoc','sector','region','valueProp']\n",
    "dataSeg.columns = columsSeg"
   ]
  },
  {
   "cell_type": "code",
   "execution_count": null,
   "metadata": {},
   "outputs": [],
   "source": [
    "print('---VR---')\n",
    "print(dataVR.head(5))\n",
    "print('---Seg---')\n",
    "print(dataSeg.head(5))"
   ]
  },
  {
   "cell_type": "code",
   "execution_count": null,
   "metadata": {},
   "outputs": [],
   "source": [
    "# Create merged dataframe\n",
    "fullData = pd.merge(dataVR, dataSeg, how=\"inner\", on=\"GRID_EUP\")"
   ]
  },
  {
   "cell_type": "code",
   "execution_count": null,
   "metadata": {},
   "outputs": [],
   "source": [
    "# # Graph 1 - FM Potential mapping\n",
    "# YesFM = fullData[fullData['product_group'] == 'FM']\n",
    "# YesFMEUP = YesFM['GRID_EUP'].unique()\n",
    "\n",
    "# fullData1 = fullData.assign(FMclient=2)\n",
    "\n",
    "# runEnd = fullData1.shape[0]\n",
    "\n",
    "# for i in range(runEnd) :\n",
    "#     if fullData1.iloc[i,2] in YesFMEUP :\n",
    "#         fullData1.loc[i,'FMclient'] = 1\n",
    "#     else :\n",
    "#         fullData1.loc[i,'FMclient'] = 0"
   ]
  },
  {
   "cell_type": "code",
   "execution_count": null,
   "metadata": {},
   "outputs": [],
   "source": [
    "YesFM = fullData[fullData['product_group'] == 'FM']\n",
    "YesFMEUP = YesFM['GRID_EUP'].unique()\n",
    "\n",
    "FMSplit = fullData\n",
    "FMSplit = FMSplit.assign(FMclient=0)\n",
    "FMSplit.loc[FMSplit['GRID_EUP'].isin(YesFMEUP), 'FMclient'] = 1\n",
    "FMSplit = FMSplit.groupby(by=['segment','FMclient'], as_index=False).agg({'GRID_EUP': pd.Series.nunique})\n",
    "\n",
    "FMSplitP = pd.pivot_table(FMSplit,index=['segment'],values=['GRID_EUP'], columns=['FMclient'],aggfunc=[np.sum],fill_value=0)\n",
    "print(FMSplitP)"
   ]
  },
  {
   "cell_type": "code",
   "execution_count": null,
   "metadata": {},
   "outputs": [],
   "source": [
    "#Export Data graph 1\n",
    "FMSplitP.to_excel('graph1DataFM.xlsx')"
   ]
  },
  {
   "cell_type": "code",
   "execution_count": null,
   "metadata": {},
   "outputs": [],
   "source": [
    "# Graph 2 - Revenue section Potential mapping\n",
    "FMGraph2Data = fullData\n",
    "FMGraph2Data = FMGraph2Data.assign(FMclient=0)\n",
    "FMGraph2Data.loc[FMGraph2Data['GRID_EUP'].isin(YesFMEUP), 'FMclient'] = 1\n",
    "FMGraph2Data = FMGraph2Data.groupby(['GRID_EUP','clientName','segment','FM_client','FMclient'],as_index=False)[['revenue']].sum()\n",
    "\n",
    "\n",
    "FMGraph2Rev = FMGraph2Data.groupby(['GRID_EUP'],as_index=False)[['revenue']].sum()\n",
    "FMFullData = pd.merge(FMGraph2Data, FMGraph2Rev, how=\"inner\", on=\"GRID_EUP\")\n",
    "FMFullData['revShareFM'] = FMFullData['revenue_x'] / (FMFullData['revenue_y']+0.001)\n",
    "\n",
    "FMRevShare = FMFullData[FMFullData['FM_client'] == 'yes']\n",
    "FMRevShareTop = FMRevShare[FMRevShare['revShareFM'] >= 0.5]\n",
    "FMRevShareMid = FMRevShare[np.logical_and(FMRevShare['revShareFM'] >= 0.25,FMRevShare['revShareFM'] < 0.50)]\n",
    "FMRevShareLow = FMRevShare[FMRevShare['revShareFM'] < 0.25]\n",
    "\n",
    "#Result\n",
    "allEUP = fullData['GRID_EUP'].unique()\n",
    "FMEUP = FMFullData['GRID_EUP'].unique()\n",
    "\n",
    "FMTopEUP = FMRevShareTop['GRID_EUP'].unique()\n",
    "FMMidEUP = FMRevShareMid['GRID_EUP'].unique()\n",
    "FMLowEUP = FMRevShareLow['GRID_EUP'].unique()\n",
    "\n",
    "ShareFM = float(FMEUP.size)/float(allEUP.size)\n",
    "ShareTop = float(FMTopEUP.size)/float(FMEUP.size)\n",
    "ShareMid = float(FMMidEUP.size)/float(FMEUP.size)\n",
    "ShareLow = float(FMLowEUP.size)/float(FMEUP.size)\n",
    "\n",
    "\n",
    "print(ShareFM)\n",
    "print'---split---'\n",
    "print(ShareTop)\n",
    "print(ShareMid)\n",
    "print(ShareLow)\n",
    "print(ShareTop+ShareMid+ShareLow)\n",
    "\n",
    "index = ['all']\n",
    "columns = ['Zero_FM_Rev', 'Till25_FM_Rev','25_50_FM_Rev','Up50_FM_Rev']\n",
    "FMRevDis = pd.DataFrame(index=index, columns=columns)\n",
    "FMRevDis.loc[:,'Zero_FM_Rev'] = float(FMEUP.shape[0]) - float(FMTopEUP.shape[0]) - float(FMMidEUP.shape[0])-float(FMLowEUP.shape[0])\n",
    "FMRevDis.loc[:,'Till25_FM_Rev'] = float(FMLowEUP.shape[0])\n",
    "FMRevDis.loc[:,'25_50_FM_Rev'] = float(FMMidEUP.shape[0])\n",
    "FMRevDis.loc[:,'Up50_FM_Rev'] = float(FMTopEUP.shape[0])"
   ]
  },
  {
   "cell_type": "code",
   "execution_count": null,
   "metadata": {},
   "outputs": [],
   "source": [
    "# Create FM Share Rev\n",
    "FMRevDis.to_excel('graph2DataFM.xlsx')"
   ]
  },
  {
   "cell_type": "code",
   "execution_count": null,
   "metadata": {},
   "outputs": [],
   "source": [
    "# FMRevShare = FMRevShare.sort_values(by='revenue_x', ascending=False)\n",
    "# FMRevShare['runningTotal'] = 1\n",
    "# FMRevShare.iloc[0,8] = FMRevShare.iloc[0,6]\n",
    "\n",
    "\n",
    "# end = FMRevShare.shape[0]\n",
    "\n",
    "# for j in range(1,end) :\n",
    "#     k = j-1\n",
    "#     FMRevShare.iloc[j,8] = FMRevShare.iloc[j,6] + FMRevShare.iloc[j-1,8]\n"
   ]
  },
  {
   "cell_type": "code",
   "execution_count": null,
   "metadata": {},
   "outputs": [],
   "source": [
    "# #end-1\n",
    "# FMRevShare['totRevShareFM'] = 0.000000\n",
    "# FMRevShare['totRevShareFM'] = FMRevShare.iloc[:,8]/FMRevShare.iloc[-1,8]\n",
    "# topRevCust = FMRevShare[FMRevShare['totRevShareFM']<0.8]\n",
    "# topRevCust = topRevCust.sort_values(by='totRevShareFM', ascending=True)\n",
    "\n",
    "# YesFMTop = topRevCust['GRID_EUP'].unique()\n",
    "\n",
    "# fullData3 = fullData.assign(FMTopclient=0)\n",
    "\n",
    "# runEnd3 = fullData3.shape[0]\n",
    "\n",
    "# for i in range(runEnd3) :\n",
    "#     if fullData3.iloc[i,2] in YesFMTop :\n",
    "#         fullData3.loc[i,'FMTopclient'] = 1\n",
    "    \n",
    "# print(topRevCust.head(5))"
   ]
  },
  {
   "cell_type": "code",
   "execution_count": null,
   "metadata": {},
   "outputs": [],
   "source": [
    "# graph2_2DataFM = fullData3.groupby(by=['segment','product_group'], as_index=False).agg({'revenue': pd.Series.sum})\n",
    "# graph2_3DataFM = fullData3.groupby(by=['segment','product_short'], as_index=False).agg({'revenue': pd.Series.sum})\n",
    "\n",
    "# graph2_2DataFM.to_excel('graph2_3DataFM.xlsx')\n",
    "# graph2_3DataFM.to_excel('graph2_3DataFM.xlsx')"
   ]
  },
  {
   "cell_type": "code",
   "execution_count": null,
   "metadata": {},
   "outputs": [],
   "source": [
    "# print(dataVR_sub.head(5))"
   ]
  },
  {
   "cell_type": "code",
   "execution_count": null,
   "metadata": {},
   "outputs": [],
   "source": [
    "dataVR_sub = pd.read_excel(\"\\path\\to\\folder\",sheet_name=\"FM\")\n",
    "dataSeg_sub = pd.read_excel(\"\\path\\to\\folder\",sheet_name=\"Party_Search_Report_20180523130\")"
   ]
  },
  {
   "cell_type": "code",
   "execution_count": null,
   "metadata": {},
   "outputs": [],
   "source": [
    "FM_Data_subLevel = pd.merge(dataSeg_sub, dataVR_sub, how='inner', left_on=['GRID ID'], right_on=['Client Grid ID_LfL'])"
   ]
  },
  {
   "cell_type": "code",
   "execution_count": null,
   "metadata": {},
   "outputs": [],
   "source": [
    "# Filter 1 k\n",
    "FM_Data_subLevel = FM_Data_subLevel[FM_Data_subLevel['Total Income YTD']>1]\n",
    "\n",
    "# Revenue buckets\n",
    "FM_Rev_Data = FM_Data_subLevel.groupby(by=['Client EC UP Grid ID'], as_index=False).agg({'Total Income YTD': pd.Series.sum})\n",
    "FM_Rev_Data = FM_Rev_Data.assign(FMRevBucket='unknown')\n",
    "FM_Rev_Data.loc[FM_Rev_Data['Total Income YTD']<=10.0 , 'FMRevBucket'] = '0-10 Seg'\n",
    "FM_Rev_Data.loc[(FM_Rev_Data['Total Income YTD']>10.0)& (FM_Rev_Data['Total Income YTD']<=50.0) , 'FMRevBucket'] = '10-50 Seg'\n",
    "FM_Rev_Data.loc[(FM_Rev_Data['Total Income YTD']>50.0)& (FM_Rev_Data['Total Income YTD']<=100.0) , 'FMRevBucket'] = '50-100 Seg'\n",
    "FM_Rev_Data.loc[FM_Rev_Data['Total Income YTD']>100.0 , 'FMRevBucket'] = '>100 Seg'\n",
    "# Count Unique country per EUP\n",
    "FM_Country_Data = FM_Data_subLevel.groupby(by=['Client EC UP Grid ID'], as_index=False).agg({'Country (Res) Description': pd.Series.nunique})\n",
    "FM_Country_Data = FM_Country_Data.assign(FMCountryBucket='unknown')\n",
    "FM_Country_Data.loc[FM_Country_Data['Country (Res) Description']<=1 , 'FMCountryBucket'] = '1 country'\n",
    "FM_Country_Data.loc[(FM_Country_Data['Country (Res) Description']>1)& (FM_Country_Data['Country (Res) Description']<=3) , 'FMCountryBucket'] = '2-3 countries'\n",
    "FM_Country_Data.loc[(FM_Country_Data['Country (Res) Description']>3)& (FM_Country_Data['Country (Res) Description']<=6) , 'FMCountryBucket'] = '4-6 countries'\n",
    "FM_Country_Data.loc[FM_Country_Data['Country (Res) Description']>=7 , 'FMCountryBucket'] = '>7 countries'\n",
    "#Merge data\n",
    "FM_Country_Data = FM_Country_Data.assign(dummy=1)\n",
    "FMGraph33Data = pd.merge(FM_Rev_Data, FM_Country_Data, how='inner', on='Client EC UP Grid ID')\n",
    "FMGraph3Data = FMGraph33Data.groupby(by=['FMRevBucket', 'FMCountryBucket'], as_index=False).agg({'Client EC UP Grid ID': pd.Series.nunique})\n",
    "FMGraph3Data = pd.pivot_table(FMGraph3Data,index=['FMCountryBucket'],values=['Client EC UP Grid ID'], columns=['FMRevBucket'],aggfunc=[np.sum],fill_value=0)\n",
    "\n"
   ]
  },
  {
   "cell_type": "code",
   "execution_count": null,
   "metadata": {},
   "outputs": [],
   "source": [
    "FMGraph3Data.to_excel('graph3DataFM.xlsx')"
   ]
  },
  {
   "cell_type": "code",
   "execution_count": null,
   "metadata": {},
   "outputs": [],
   "source": [
    "testDummy = pd.merge(dataSeg_sub, dataVR_sub, how='inner', left_on=['GRID ID'], right_on=['Client Grid ID_LfL'])\n",
    "testDummy = testDummy.groupby(by=['Client EC UP Grid ID'], as_index=False).agg({'Client Grid ID_LfL': pd.Series.nunique})\n",
    "print(testDummy.shape)"
   ]
  },
  {
   "cell_type": "code",
   "execution_count": null,
   "metadata": {},
   "outputs": [],
   "source": [
    "totalCompanies = FMGraph33Data.groupby(by=['FMRevBucket'], as_index=False).agg({'Country (Res) Description': pd.Series.mean})"
   ]
  },
  {
   "cell_type": "code",
   "execution_count": null,
   "metadata": {},
   "outputs": [],
   "source": [
    "print(totalCompanies)\n",
    "print('-----')\n",
    "print(FMGraph33Data['Country (Res) Description'].mean())"
   ]
  },
  {
   "cell_type": "code",
   "execution_count": null,
   "metadata": {},
   "outputs": [],
   "source": []
  },
  {
   "cell_type": "code",
   "execution_count": null,
   "metadata": {},
   "outputs": [],
   "source": []
  }
 ],
 "metadata": {
  "kernelspec": {
   "display_name": "Python 3",
   "language": "python",
   "name": "python3"
  },
  "language_info": {
   "codemirror_mode": {
    "name": "ipython",
    "version": 3
   },
   "file_extension": ".py",
   "mimetype": "text/x-python",
   "name": "python",
   "nbconvert_exporter": "python",
   "pygments_lexer": "ipython3",
   "version": "3.6.5"
  }
 },
 "nbformat": 4,
 "nbformat_minor": 2
}
