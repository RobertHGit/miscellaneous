{
 "cells": [
  {
   "cell_type": "code",
   "execution_count": null,
   "metadata": {},
   "outputs": [],
   "source": [
    "#import packages\n",
    "from fuzzywuzzy import fuzz\n",
    "from fuzzywuzzy import process\n",
    "import pandas as pd\n",
    "import numpy as np"
   ]
  },
  {
   "cell_type": "code",
   "execution_count": null,
   "metadata": {},
   "outputs": [],
   "source": [
    "#EXAMPLE\n",
    "#test levenstein score\n",
    "ratioScore = fuzz.ratio(\"ACME Factory\", \"ACME Factory Inc.\")\n",
    "partial_ratioScore = fuzz.partial_ratio(\"ACME Factory\", \"ACME Factory Inc.\")"
   ]
  },
  {
   "cell_type": "code",
   "execution_count": null,
   "metadata": {},
   "outputs": [],
   "source": [
    "#EXAMPLE\n",
    "#Levenstein score on tokenized word\n",
    "token_sort_ratioScore = fuzz.token_sort_ratio('Barack Obama', 'Barack H. Obama')\n",
    "token_set_ratioScore = fuzz.token_set_ratio('Barack Obama', 'Barack H. Obama')"
   ]
  },
  {
   "cell_type": "code",
   "execution_count": null,
   "metadata": {},
   "outputs": [],
   "source": [
    "#EXAMPLE\n",
    "#Batch search \n",
    "query = 'Barack Obama'\n",
    "choices = ['Barack H Obama', 'Barack H. Obama', 'B. Obama']\n",
    "\n",
    "# Get a list of matches ordered by score, default limit to 5\n",
    "topN3 = process.extract(query, choices)\n",
    "print(topN3)\n",
    " \n",
    "# If we want only the top one\n",
    "TopN = process.extractOne(query, choices)\n",
    "print(TopN[0])"
   ]
  },
  {
   "cell_type": "code",
   "execution_count": null,
   "metadata": {},
   "outputs": [],
   "source": [
    "#EXAMPLE\n",
    "#You could transform the choice list into a dictionary. For example:\n",
    "choices_list = [\"hello\", \"world\", \"some\", \"other\", \"words\", \"hello\"]\n",
    "choices_dict = {idx: el for idx, el in enumerate(choices_list)}\n",
    "\n",
    "match = process.extractOne(\"some\", choices_dict)\n",
    "print(match)"
   ]
  },
  {
   "cell_type": "code",
   "execution_count": null,
   "metadata": {},
   "outputs": [],
   "source": [
    "#Update BvD IDs"
   ]
  },
  {
   "cell_type": "code",
   "execution_count": null,
   "metadata": {},
   "outputs": [],
   "source": [
    "# import data\n",
    "EUPzer0_SearchALL = pd.read_excel('\\path\\to\\folder', sheet_name = 'Results')\n",
    "segClients = pd.read_excel(\"\\path\\to\\folder\")"
   ]
  },
  {
   "cell_type": "code",
   "execution_count": null,
   "metadata": {},
   "outputs": [],
   "source": [
    "#Map client names to new bvd ids\n",
    "clientsNames = segClients['eupName']\n",
    "clientsNames_dict = {idx: el for idx, el in enumerate(clientsNames)}\n",
    "\n",
    "#create result list\n",
    "#reMappedClients = pd.DataFrame([], columns=['ClientName_ing', 'oldBvDID', 'mappedName','newBvDID','score'])\n",
    "reMappedClients = pd.DataFrame(np.nan, index = np.arange(EUPzer0_SearchALL.shape[0]), columns = ['ClientName_ing', 'oldBvDID', 'mappedName','newBvDID','score', 'SameOrDiff'])\n",
    "segClientsUpdate = segClients\n",
    "segClientsUpdate['update'] = 0\n",
    "\n",
    "#remap clients\n",
    "for reMapCount in range(EUPzer0_SearchALL.shape[0]):\n",
    "    bestMatch = pd.DataFrame(list(process.extractOne(EUPzer0_SearchALL.iloc[reMapCount,0], clientsNames_dict, scorer=fuzz.token_sort_ratio)))\n",
    "    bestMatch = bestMatch.T\n",
    "    \n",
    "    reMappedClients.iloc[reMapCount,0] = segClients.iloc[bestMatch.iloc[0,2],1]\n",
    "    reMappedClients.iloc[reMapCount,1] = segClients.iloc[bestMatch.iloc[0,2],6]\n",
    "    reMappedClients.iloc[reMapCount,2] = EUPzer0_SearchALL.iloc[reMapCount,0]\n",
    "    reMappedClients.iloc[reMapCount,3] = EUPzer0_SearchALL.iloc[reMapCount,1]\n",
    "    reMappedClients.iloc[reMapCount,4] = bestMatch.iloc[0,1]\n",
    "    reMappedClients.iloc[reMapCount,5] = segClients.iloc[bestMatch.iloc[0,2],6]==EUPzer0_SearchALL.iloc[reMapCount,1]\n",
    "    \n",
    "    segClientsUpdate.iloc[bestMatch.iloc[0,2],6] = EUPzer0_SearchALL.iloc[reMapCount,1]\n",
    "    segClientsUpdate.iloc[bestMatch.iloc[0,2],9] = 1"
   ]
  },
  {
   "cell_type": "code",
   "execution_count": null,
   "metadata": {},
   "outputs": [],
   "source": [
    "#SaveResults\n",
    "reMappedClients.to_excel('\\path\\to\\folder')\n",
    "segClientsUpdate.to_excel('\\path\\to\\folder')"
   ]
  },
  {
   "cell_type": "code",
   "execution_count": null,
   "metadata": {},
   "outputs": [],
   "source": [
    "#ASML Holding N.V.\n",
    "#artial_ratioScore = fuzz.partial_ratio(\"ACME Factory\", \"ACME Factory Inc.\")\n",
    "reMappedClients.head(60)"
   ]
  }
 ],
 "metadata": {
  "kernelspec": {
   "display_name": "Python 3",
   "language": "python",
   "name": "python3"
  },
  "language_info": {
   "codemirror_mode": {
    "name": "ipython",
    "version": 3
   },
   "file_extension": ".py",
   "mimetype": "text/x-python",
   "name": "python",
   "nbconvert_exporter": "python",
   "pygments_lexer": "ipython3",
   "version": "3.6.5"
  }
 },
 "nbformat": 4,
 "nbformat_minor": 2
}
